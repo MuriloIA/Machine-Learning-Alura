{
 "cells": [
  {
   "cell_type": "markdown",
   "metadata": {
    "colab_type": "text",
    "id": "rqM0tdiWNtAr"
   },
   "source": [
    "***\n",
    "***\n",
    "\n",
    "<center><h1> Machine Learning - Porco ou Cachorro? </h1></center>\n",
    "\n",
    "***\n",
    "***\n",
    "\n",
    "<center><img src = 'https://forgifs.com/gallery/d/297059-2/Husky-dog-wakes-pig.gif'></center>\n",
    "\n",
    "***"
   ]
  },
  {
   "cell_type": "markdown",
   "metadata": {},
   "source": [
    "# Estrutura: <br>\n",
    "    \n",
    "***\n",
    "A. **Descrição dos Atributos** <br>\n",
    "I. [Pelo_longo](#Pelo_longo)<br>\n",
    "II. [Perna_curta](#Perna_curta)<br>\n",
    "III. [Faz_auau](#Faz_auau)<br>\n",
    "\n",
    "B. **Importação das Bibliotecas Básicas** <br>\n",
    "I. [Instalações](#Instalações) <br>\n",
    "II. [Importações](#Importações) <br>\n",
    "III. [verificação](#Verificando_Versões_Instaladas) <br>\n",
    "\n",
    "C. **Importando a Base de Dados** <br>\n",
    "I. [Carregando a Base de Dados](#Carregando_Base_de_Dados) <br>\n",
    "II. [Estrutura dos Dados](#Estrutura_dos_Dados) <br>\n",
    "III. [Informações Gerais](#informações_gerais) <br>\n",
    "\n",
    "D. **Análise das Características dos Animais**<br>\n",
    "I. [Distribuição das Classes](#Distribuição_das_Classes) <br>\n",
    "\n",
    "E. **Separação dos Dados**<br>\n",
    "I. [Bibliotecas Utilizadas](#bibliotecas)<br>\n",
    "II. [Separando os dados para treino e teste](#train_test)<br>\n",
    "\n",
    "\n",
    "F. **LinearSVC**<br>\n",
    "I. [Instânciando o LinearSVC](#instanciando) <br>\n",
    "II. [Treinando Modelo](#treinando) <br>\n",
    "III. [Relatório do LinearSVC](#Relatorio)\n",
    "\n",
    "# A. Descrição dos Atributos: <br>\n",
    "\n",
    "Variáveis de Entrada\n",
    "\n",
    "## Ai. Pelo_longo:\n",
    "\n",
    "\n",
    "<a id=\"Pelo_longo\"></a>\n",
    "\n",
    "> O atributo <b>pelo_longo</b> nos informa se o animal em análise tem pelo comprido ou não, se está marcado como <b>1</b>, então sim o animal tem pelo comprido, de forma contraria, se estiver marcado com <b>0</b>, o animal não tem pelo comprido .\n",
    "\n",
    "## Aii. Perna_curta:\n",
    "\n",
    "<a id=\"Perna_curta\"></a>\n",
    "\n",
    "> A variável <b>Perna_curta</b> é a classificação do comprimento da perna do animal; se estiver marcado como <b>1</b>, foi classificado que o animal tem uma perna longa; em contraste, <b>0</b> indica que o animal tem uma perna curta.\n",
    "\n",
    "## Aiii. Faz_auau:\n",
    "\n",
    "<a id = \"Faz_auau\"></a>\n",
    "\n",
    "> Com este atributo, temos a informação se um determinado animal late ou não, o funcionamento não é diferente das outras variáveis acima, como vimos se está marcado com 1, então sim o animal late, se está marcado com 0, então o animal sob análise não late, lembrando que no conjunto usado neste projeto existem cães que não latem, o motivo pelo qual não é descrito."
   ]
  },
  {
   "cell_type": "markdown",
   "metadata": {},
   "source": [
    "# B. Importação das Bibliotecas Básicas <br>\n",
    "\n",
    "> Nesta primeira etapa, instalarei, importarei e verificarei todas as principais bibliotecas básicas que serão usadas ao longo do projeto, lembrando que essas são as bibliotecas básicas nas quais a maioria dos projetos que envolvem análise de dados e construção de modelos preditivos usa. Os links para a documentação de cada biblioteca estão abaixo.\n",
    "\n",
    "> * matplotlib-: https://matplotlib.org/\n",
    "> * Pytorch-: https://pytorch.org/\n",
    "> * seaborn-: https://seaborn.pydata.org/\n",
    "> * Pandas-: https://pandas.pydata.org/docs/#\n",
    "> * numpy-: https://numpy.org/"
   ]
  },
  {
   "cell_type": "markdown",
   "metadata": {},
   "source": [
    "## Bi. Instalações:\n",
    "\n",
    "<a id=\"Instalações\"></a>"
   ]
  },
  {
   "cell_type": "code",
   "execution_count": 1,
   "metadata": {},
   "outputs": [],
   "source": [
    "!pip install numpy --quiet\n",
    "!pip install pandas --quiet\n",
    "!pip install seaborn --quiet\n",
    "!pip install matplotlib --quiet"
   ]
  },
  {
   "cell_type": "markdown",
   "metadata": {},
   "source": [
    "## Bii. Importações:\n",
    "\n",
    "<a id=\"Importações\"></a>"
   ]
  },
  {
   "cell_type": "code",
   "execution_count": 2,
   "metadata": {},
   "outputs": [],
   "source": [
    "# Ignoring Errors\n",
    "import warnings\n",
    "warnings.simplefilter(\"ignore\")\n",
    "\n",
    "import matplotlib"
   ]
  },
  {
   "cell_type": "code",
   "execution_count": 3,
   "metadata": {},
   "outputs": [],
   "source": [
    "import matplotlib.pyplot as plt\n",
    "import seaborn as sns\n",
    "import pandas as pd\n",
    "import numpy as np"
   ]
  },
  {
   "cell_type": "markdown",
   "metadata": {},
   "source": [
    "## Biii. Verificando as Versões Instaladas:\n",
    "\n",
    "<a id =\"Verificando_Versões_Instaladas\"></a>"
   ]
  },
  {
   "cell_type": "code",
   "execution_count": 4,
   "metadata": {},
   "outputs": [
    {
     "name": "stdout",
     "output_type": "stream",
     "text": [
      "---------= Versions =---------\n",
      " Matplotlib version-: 3.1.3\n",
      " Seaborn version-: 0.10.0\n",
      " Pandas version-: 0.25.3\n",
      " Numpy version-: 1.18.1\n",
      "-----------------------------\n"
     ]
    }
   ],
   "source": [
    "print('---------= Versions =---------')\n",
    "print(f' Matplotlib version-: {matplotlib.__version__}')\n",
    "print(f' Seaborn version-: {sns.__version__}')\n",
    "print(f' Pandas version-: {pd.__version__}')\n",
    "print(f' Numpy version-: {np.__version__}')\n",
    "print('-' * 29)"
   ]
  },
  {
   "cell_type": "markdown",
   "metadata": {},
   "source": [
    "# C. Importando a Base de Dados <br>"
   ]
  },
  {
   "cell_type": "markdown",
   "metadata": {},
   "source": [
    "## Ci. Carregando a Base de Dados:\n",
    "\n",
    "<a id=\"Carregando_Base_de_Dados\"></a>"
   ]
  },
  {
   "cell_type": "code",
   "execution_count": 5,
   "metadata": {},
   "outputs": [],
   "source": [
    "uri = 'porco_cachorro.csv'\n",
    "dados = pd.read_csv(uri)"
   ]
  },
  {
   "cell_type": "markdown",
   "metadata": {},
   "source": [
    "***Visualizando os Dados***"
   ]
  },
  {
   "cell_type": "code",
   "execution_count": 6,
   "metadata": {},
   "outputs": [
    {
     "data": {
      "text/html": [
       "<div>\n",
       "<style scoped>\n",
       "    .dataframe tbody tr th:only-of-type {\n",
       "        vertical-align: middle;\n",
       "    }\n",
       "\n",
       "    .dataframe tbody tr th {\n",
       "        vertical-align: top;\n",
       "    }\n",
       "\n",
       "    .dataframe thead th {\n",
       "        text-align: right;\n",
       "    }\n",
       "</style>\n",
       "<table border=\"1\" class=\"dataframe\">\n",
       "  <thead>\n",
       "    <tr style=\"text-align: right;\">\n",
       "      <th></th>\n",
       "      <th>Pelo_longo</th>\n",
       "      <th>Perna_curta</th>\n",
       "      <th>Faz_auau</th>\n",
       "      <th>Porco_cachorro</th>\n",
       "    </tr>\n",
       "  </thead>\n",
       "  <tbody>\n",
       "    <tr>\n",
       "      <th>0</th>\n",
       "      <td>1</td>\n",
       "      <td>0</td>\n",
       "      <td>0</td>\n",
       "      <td>1</td>\n",
       "    </tr>\n",
       "    <tr>\n",
       "      <th>1</th>\n",
       "      <td>0</td>\n",
       "      <td>0</td>\n",
       "      <td>1</td>\n",
       "      <td>0</td>\n",
       "    </tr>\n",
       "    <tr>\n",
       "      <th>2</th>\n",
       "      <td>0</td>\n",
       "      <td>1</td>\n",
       "      <td>1</td>\n",
       "      <td>0</td>\n",
       "    </tr>\n",
       "    <tr>\n",
       "      <th>3</th>\n",
       "      <td>1</td>\n",
       "      <td>0</td>\n",
       "      <td>0</td>\n",
       "      <td>1</td>\n",
       "    </tr>\n",
       "    <tr>\n",
       "      <th>4</th>\n",
       "      <td>0</td>\n",
       "      <td>0</td>\n",
       "      <td>0</td>\n",
       "      <td>1</td>\n",
       "    </tr>\n",
       "    <tr>\n",
       "      <th>5</th>\n",
       "      <td>1</td>\n",
       "      <td>0</td>\n",
       "      <td>0</td>\n",
       "      <td>1</td>\n",
       "    </tr>\n",
       "    <tr>\n",
       "      <th>6</th>\n",
       "      <td>1</td>\n",
       "      <td>0</td>\n",
       "      <td>1</td>\n",
       "      <td>0</td>\n",
       "    </tr>\n",
       "    <tr>\n",
       "      <th>7</th>\n",
       "      <td>1</td>\n",
       "      <td>1</td>\n",
       "      <td>0</td>\n",
       "      <td>1</td>\n",
       "    </tr>\n",
       "    <tr>\n",
       "      <th>8</th>\n",
       "      <td>0</td>\n",
       "      <td>1</td>\n",
       "      <td>1</td>\n",
       "      <td>0</td>\n",
       "    </tr>\n",
       "    <tr>\n",
       "      <th>9</th>\n",
       "      <td>1</td>\n",
       "      <td>1</td>\n",
       "      <td>0</td>\n",
       "      <td>1</td>\n",
       "    </tr>\n",
       "  </tbody>\n",
       "</table>\n",
       "</div>"
      ],
      "text/plain": [
       "   Pelo_longo  Perna_curta  Faz_auau  Porco_cachorro\n",
       "0           1            0         0               1\n",
       "1           0            0         1               0\n",
       "2           0            1         1               0\n",
       "3           1            0         0               1\n",
       "4           0            0         0               1\n",
       "5           1            0         0               1\n",
       "6           1            0         1               0\n",
       "7           1            1         0               1\n",
       "8           0            1         1               0\n",
       "9           1            1         0               1"
      ]
     },
     "execution_count": 6,
     "metadata": {},
     "output_type": "execute_result"
    }
   ],
   "source": [
    "dados.head(10)"
   ]
  },
  {
   "cell_type": "markdown",
   "metadata": {},
   "source": [
    "## Cii. Estrutura dos Dados:\n",
    "\n",
    "<a id =\"Estrutura_dos_Dados\"></a>"
   ]
  },
  {
   "cell_type": "code",
   "execution_count": 7,
   "metadata": {},
   "outputs": [
    {
     "data": {
      "text/plain": [
       "(5118, 4)"
      ]
     },
     "execution_count": 7,
     "metadata": {},
     "output_type": "execute_result"
    }
   ],
   "source": [
    "dados.shape"
   ]
  },
  {
   "cell_type": "code",
   "execution_count": 8,
   "metadata": {},
   "outputs": [
    {
     "name": "stdout",
     "output_type": "stream",
     "text": [
      "--= Estrutura dos Dados =--\n",
      "    5118 - Linhas\n",
      "    4 - Colunas\n",
      "-----------------------------\n"
     ]
    }
   ],
   "source": [
    "print('--= Estrutura dos Dados =--')\n",
    "print(f'    {dados.shape[0]} - Linhas')\n",
    "print(f'    {dados.shape[1]} - Colunas')\n",
    "print('-----------------------------')"
   ]
  },
  {
   "cell_type": "markdown",
   "metadata": {},
   "source": [
    "## Ciii. Informações Gerais:\n",
    "\n",
    "<a id = \"informações_gerais\"></a>"
   ]
  },
  {
   "cell_type": "code",
   "execution_count": 9,
   "metadata": {},
   "outputs": [
    {
     "name": "stdout",
     "output_type": "stream",
     "text": [
      "<class 'pandas.core.frame.DataFrame'>\n",
      "RangeIndex: 5118 entries, 0 to 5117\n",
      "Data columns (total 4 columns):\n",
      "Pelo_longo        5118 non-null int64\n",
      "Perna_curta       5118 non-null int64\n",
      "Faz_auau          5118 non-null int64\n",
      "Porco_cachorro    5118 non-null int64\n",
      "dtypes: int64(4)\n",
      "memory usage: 160.1 KB\n"
     ]
    }
   ],
   "source": [
    "dados.info()"
   ]
  },
  {
   "cell_type": "markdown",
   "metadata": {},
   "source": [
    "# D. Análise das Características dos Animais <br>"
   ]
  },
  {
   "cell_type": "markdown",
   "metadata": {},
   "source": [
    "## Di. Distribuição das Classes:\n",
    "\n",
    "<a id =\"Distribuição_das_Classes\"></a>"
   ]
  },
  {
   "cell_type": "code",
   "execution_count": 10,
   "metadata": {},
   "outputs": [
    {
     "data": {
      "image/png": "[encoded data removed]",
      "text/plain": [
       "<Figure size 360x360 with 2 Axes>"
      ]
     },
     "metadata": {},
     "output_type": "display_data"
    }
   ],
   "source": [
    "plt.style.use('Solarize_Light2')\n",
    "fig = plt.figure(figsize = (5, 5))\n",
    "plt.style.use('classic')\n",
    "\n",
    "eixo1 = fig.add_axes([0, 1, 1, 1])\n",
    "eixo1.bar(['Cachorro', 'Porco'], dados['Porco_cachorro'].value_counts().values, color = ['orange', 'aqua'], edgecolor = 'k')\n",
    "eixo1.set_title('Distribuição das Classes', fontsize = 16, pad=10)\n",
    "\n",
    "eixo1.annotate(f\"{dados['Porco_cachorro'].value_counts().values[0] }\", xy=(0, dados['Porco_cachorro'].value_counts().values[0] + 20), fontsize = 15, color = 'k')\n",
    "eixo1.annotate(f\"{dados['Porco_cachorro'].value_counts().values[1]}\", xy=(0.95, dados['Porco_cachorro'].value_counts().values[1] + 20), fontsize = 15, color = 'k')\n",
    "eixo2 = fig.add_axes([1.1, 0.96, 1, 1])\n",
    "eixo2.pie(dados['Porco_cachorro'].value_counts(), colors = ['orange', 'aqua'], shadow = True, autopct='%.2f%%',\n",
    "         textprops={'size':14, 'color' : 'k'}, labels=['Cachorro', 'Porco'], explode=(.01, .01), wedgeprops=dict(width=.5))\n",
    "eixo2.set_title('Percentual de Cada Classe', fontsize = 16, pad=20);"
   ]
  },
  {
   "cell_type": "markdown",
   "metadata": {},
   "source": [
    "# E. Processo de Separação dos Dados <br>"
   ]
  },
  {
   "cell_type": "markdown",
   "metadata": {},
   "source": [
    "## Ei. Bibliotecas Utilizadas:\n",
    "\n",
    "<a id = \"bibliotecas\"></a>"
   ]
  },
  {
   "cell_type": "code",
   "execution_count": 11,
   "metadata": {},
   "outputs": [],
   "source": [
    "from sklearn.model_selection import train_test_split as tts"
   ]
  },
  {
   "cell_type": "markdown",
   "metadata": {},
   "source": [
    "## Eii. Separando os dados para treino e teste:\n",
    "\n",
    "<a id = \"train_test\"></a>"
   ]
  },
  {
   "cell_type": "code",
   "execution_count": 12,
   "metadata": {},
   "outputs": [],
   "source": [
    "# Fixando um seed aleatório\n",
    "np.random.seed(2020)\n",
    "\n",
    "# Separando todos os dados em variáveis genéricas x e y\n",
    "x = dados[['Pelo_longo', 'Perna_curta', 'Faz_auau']]\n",
    "y = dados['Porco_cachorro']\n",
    "\n",
    "# Utilizando o modulo do scikit-learning para separar os dados em treino e teste\n",
    "train_x, test_x, train_y, test_y = tts(x, y, test_size=.2, stratify=y)"
   ]
  },
  {
   "cell_type": "markdown",
   "metadata": {},
   "source": [
    "# F. LinearSVC <br>"
   ]
  },
  {
   "cell_type": "markdown",
   "metadata": {},
   "source": [
    "**Importando estimador LinearSVC**"
   ]
  },
  {
   "cell_type": "code",
   "execution_count": 13,
   "metadata": {},
   "outputs": [],
   "source": [
    "from sklearn.svm import LinearSVC"
   ]
  },
  {
   "cell_type": "markdown",
   "metadata": {},
   "source": [
    "## Fi. Instânciando o LinearSVC:\n",
    "\n",
    "<a id = \"instanciando\"></a>"
   ]
  },
  {
   "cell_type": "code",
   "execution_count": 14,
   "metadata": {},
   "outputs": [
    {
     "data": {
      "text/plain": [
       "LinearSVC(C=1.0, class_weight=None, dual=True, fit_intercept=True,\n",
       "          intercept_scaling=1, loss='squared_hinge', max_iter=1000,\n",
       "          multi_class='ovr', penalty='l2', random_state=None, tol=0.0001,\n",
       "          verbose=0)"
      ]
     },
     "execution_count": 14,
     "metadata": {},
     "output_type": "execute_result"
    }
   ],
   "source": [
    "# Instânciando o LinearSVC\n",
    "modelo_svc = LinearSVC()\n",
    "\n",
    "# Visualizando o estimador\n",
    "modelo_svc"
   ]
  },
  {
   "cell_type": "markdown",
   "metadata": {},
   "source": [
    "## Fii. Treinando Estimador:\n",
    "\n",
    "<a id = \"treinando\"></a>"
   ]
  },
  {
   "cell_type": "code",
   "execution_count": 15,
   "metadata": {},
   "outputs": [
    {
     "data": {
      "text/plain": [
       "LinearSVC(C=1.0, class_weight=None, dual=True, fit_intercept=True,\n",
       "          intercept_scaling=1, loss='squared_hinge', max_iter=1000,\n",
       "          multi_class='ovr', penalty='l2', random_state=None, tol=0.0001,\n",
       "          verbose=0)"
      ]
     },
     "execution_count": 15,
     "metadata": {},
     "output_type": "execute_result"
    }
   ],
   "source": [
    "modelo_svc.fit(train_x, train_y)"
   ]
  },
  {
   "cell_type": "markdown",
   "metadata": {},
   "source": [
    "## Fiii. Relatório do Classificador LinearSVC:\n",
    "\n",
    "<a id = \"relatorio\"></a>\n",
    "\n",
    "<h4>Métricas Utilizadas:</h4>\n",
    "\n",
    "---\n",
    "<b>Accuracy = $\\frac{TP + TN}{TP + TN + FN + FP}$</b>\n",
    "\n",
    "<b>Precision = $\\frac{TP}{TP + FP}$</b>\n",
    "\n",
    "<b>Recall = $\\frac{TP}{TP + FN}$</b>\n",
    "\n",
    "<b>F1-Score = $2 * \\frac{Precision * Recall}{Precision + Recall}$</b>"
   ]
  },
  {
   "cell_type": "markdown",
   "metadata": {},
   "source": [
    "**Bibliotecas Utilizadas**"
   ]
  },
  {
   "cell_type": "code",
   "execution_count": 16,
   "metadata": {},
   "outputs": [],
   "source": [
    "from sklearn.metrics import classification_report, confusion_matrix"
   ]
  },
  {
   "cell_type": "code",
   "execution_count": 17,
   "metadata": {},
   "outputs": [],
   "source": [
    "def relatorio_linearsvc():\n",
    "        \n",
    "    # Previsões\n",
    "    previsoes = modelo_svc.predict(test_x)\n",
    "    \n",
    "    # Gerando relatório de classificação\n",
    "    print(f'Relatório de Classificação\\n{classification_report(test_y, previsoes)}')\n",
    "    \n",
    "    # Matriz de Confusão\n",
    "    plt.style.use('seaborn')\n",
    "    sns.heatmap(confusion_matrix(test_y, previsoes), annot = True, lw=1.5, fmt='d', color = 'k', edgecolor = 'k')\n",
    "    \n",
    "    # Labels\n",
    "    plt.xlabel('Valor Predito', fontsize = 15)\n",
    "    plt.ylabel('Valor Real', fontsize = 15)\n",
    "    plt.title('Matriz de Confusão', fontsize = 18, pad=10)"
   ]
  },
  {
   "cell_type": "code",
   "execution_count": 18,
   "metadata": {},
   "outputs": [
    {
     "name": "stdout",
     "output_type": "stream",
     "text": [
      "Relatório de Classificação\n",
      "              precision    recall  f1-score   support\n",
      "\n",
      "           0       1.00      0.99      1.00       515\n",
      "           1       0.99      1.00      1.00       509\n",
      "\n",
      "    accuracy                           1.00      1024\n",
      "   macro avg       1.00      1.00      1.00      1024\n",
      "weighted avg       1.00      1.00      1.00      1024\n",
      "\n"
     ]
    },
    {
     "data": {
      "image/png": "[encoded data removed]",
      "text/plain": [
       "<Figure size 640x440 with 2 Axes>"
      ]
     },
     "metadata": {},
     "output_type": "display_data"
    }
   ],
   "source": [
    "relatorio_linearsvc()"
   ]
  },
  {
   "cell_type": "code",
   "execution_count": null,
   "metadata": {},
   "outputs": [],
   "source": []
  }
 ],
 "metadata": {
  "colab": {
   "name": "Machine Learning - Alura I",
   "provenance": []
  },
  "kernelspec": {
   "display_name": "Python 3",
   "language": "python",
   "name": "python3"
  },
  "language_info": {
   "codemirror_mode": {
    "name": "ipython",
    "version": 3
   },
   "file_extension": ".py",
   "mimetype": "text/x-python",
   "name": "python",
   "nbconvert_exporter": "python",
   "pygments_lexer": "ipython3",
   "version": "3.7.6"
  }
 },
 "nbformat": 4,
 "nbformat_minor": 1
}
