{
 "cells": [
  {
   "cell_type": "markdown",
   "metadata": {},
   "source": [
    "***\n",
    "***\n",
    "\n",
    "<center><h2>Criando base de dados</h2></center>\n",
    "\n",
    "***\n",
    "***"
   ]
  },
  {
   "cell_type": "markdown",
   "metadata": {},
   "source": [
    "<h3> Bibliotecas Utilizadas </h3>"
   ]
  },
  {
   "cell_type": "code",
   "execution_count": 1,
   "metadata": {},
   "outputs": [],
   "source": [
    "from random import randint\n",
    "import pandas as pd\n",
    "import numpy as np"
   ]
  },
  {
   "cell_type": "markdown",
   "metadata": {},
   "source": [
    "<h2>Criando a própria base de dados:</h2>\n",
    "\n",
    "<h3>Features</h3>\n",
    "\n",
    "> Pelo Longo?\n",
    "    0 -> Não | 1 -> Sim\n",
    "\n",
    "> Perna Curta? \n",
    "    0 -> Não | 1 -> Sim\n",
    "\n",
    "> Faz auau? \n",
    "    0 -> Não | 1 -> Sim\n",
    "\n",
    "> Porco -> 1 | Cachorro -> 0"
   ]
  },
  {
   "cell_type": "code",
   "execution_count": 2,
   "metadata": {},
   "outputs": [],
   "source": [
    "# Features list\n",
    "pelo_longo = []\n",
    "perna_curta = []\n",
    "faz_auau = []\n",
    "porco_cachorro = []"
   ]
  },
  {
   "cell_type": "code",
   "execution_count": 3,
   "metadata": {},
   "outputs": [],
   "source": [
    "# Criando valores aleatórios entre 0 e 1\n",
    "for i in range(10000):\n",
    "\n",
    "    pelo_longo.append(randint(0, 1))\n",
    "    perna_curta.append(randint(0, 1))\n",
    "    faz_auau.append(randint(0, 1))\n",
    "    porco_cachorro.append(randint(0, 1))\n",
    "\n",
    "# Transformando as listas em series do pandas\n",
    "pelo_longo = pd.Series(pelo_longo)\n",
    "perna_curta = pd.Series(perna_curta)\n",
    "faz_auau = pd.Series(faz_auau)\n",
    "porco_cachorro = pd.Series(porco_cachorro)\n",
    "\n",
    "# Criando um DataFrame com todos os valores gerados aleatóriamente\n",
    "df = pd.concat([pelo_longo, perna_curta, faz_auau, porco_cachorro], axis = 'columns')\n",
    "df.columns = ['Pelo_longo', 'Perna_curta', 'Faz_auau', 'Porco_cachorro']\n",
    "\n",
    "# Removendo registros de cachorros que não latem\n",
    "n_ = round(len(df.query('Faz_auau == 0 and Porco_cachorro == 0').index) * 0.01)\n",
    "t = len(df.query('Faz_auau == 0 and Porco_cachorro == 0').index)\n",
    "df.drop(index=df.query('Faz_auau == 0 and Porco_cachorro == 0').index[:t-n_], inplace = True)\n",
    "\n",
    "# Removendo registros de porcos que latem\n",
    "df.drop(index = df.query('Faz_auau == 1 and Porco_cachorro == 1').index, inplace = True)"
   ]
  },
  {
   "cell_type": "markdown",
   "metadata": {},
   "source": [
    "<h3>Salvando em um arquivo csv</h3>"
   ]
  },
  {
   "cell_type": "code",
   "execution_count": 4,
   "metadata": {},
   "outputs": [],
   "source": [
    "df.to_csv('porco_cachorro.csv', index = False)"
   ]
  },
  {
   "cell_type": "code",
   "execution_count": 5,
   "metadata": {},
   "outputs": [
    {
     "data": {
      "text/plain": [
       "(5118, 4)"
      ]
     },
     "execution_count": 5,
     "metadata": {},
     "output_type": "execute_result"
    }
   ],
   "source": [
    "df.shape"
   ]
  },
  {
   "cell_type": "code",
   "execution_count": 6,
   "metadata": {},
   "outputs": [
    {
     "data": {
      "text/html": [
       "<div>\n",
       "<style scoped>\n",
       "    .dataframe tbody tr th:only-of-type {\n",
       "        vertical-align: middle;\n",
       "    }\n",
       "\n",
       "    .dataframe tbody tr th {\n",
       "        vertical-align: top;\n",
       "    }\n",
       "\n",
       "    .dataframe thead th {\n",
       "        text-align: right;\n",
       "    }\n",
       "</style>\n",
       "<table border=\"1\" class=\"dataframe\">\n",
       "  <thead>\n",
       "    <tr style=\"text-align: right;\">\n",
       "      <th></th>\n",
       "      <th>Pelo_longo</th>\n",
       "      <th>Perna_curta</th>\n",
       "      <th>Faz_auau</th>\n",
       "      <th>Porco_cachorro</th>\n",
       "    </tr>\n",
       "  </thead>\n",
       "  <tbody>\n",
       "    <tr>\n",
       "      <th>2</th>\n",
       "      <td>1</td>\n",
       "      <td>0</td>\n",
       "      <td>0</td>\n",
       "      <td>1</td>\n",
       "    </tr>\n",
       "    <tr>\n",
       "      <th>3</th>\n",
       "      <td>0</td>\n",
       "      <td>0</td>\n",
       "      <td>1</td>\n",
       "      <td>0</td>\n",
       "    </tr>\n",
       "    <tr>\n",
       "      <th>5</th>\n",
       "      <td>0</td>\n",
       "      <td>1</td>\n",
       "      <td>1</td>\n",
       "      <td>0</td>\n",
       "    </tr>\n",
       "    <tr>\n",
       "      <th>6</th>\n",
       "      <td>1</td>\n",
       "      <td>0</td>\n",
       "      <td>0</td>\n",
       "      <td>1</td>\n",
       "    </tr>\n",
       "    <tr>\n",
       "      <th>7</th>\n",
       "      <td>0</td>\n",
       "      <td>0</td>\n",
       "      <td>0</td>\n",
       "      <td>1</td>\n",
       "    </tr>\n",
       "    <tr>\n",
       "      <th>...</th>\n",
       "      <td>...</td>\n",
       "      <td>...</td>\n",
       "      <td>...</td>\n",
       "      <td>...</td>\n",
       "    </tr>\n",
       "    <tr>\n",
       "      <th>9991</th>\n",
       "      <td>1</td>\n",
       "      <td>1</td>\n",
       "      <td>0</td>\n",
       "      <td>1</td>\n",
       "    </tr>\n",
       "    <tr>\n",
       "      <th>9992</th>\n",
       "      <td>1</td>\n",
       "      <td>0</td>\n",
       "      <td>0</td>\n",
       "      <td>0</td>\n",
       "    </tr>\n",
       "    <tr>\n",
       "      <th>9993</th>\n",
       "      <td>1</td>\n",
       "      <td>1</td>\n",
       "      <td>0</td>\n",
       "      <td>1</td>\n",
       "    </tr>\n",
       "    <tr>\n",
       "      <th>9996</th>\n",
       "      <td>0</td>\n",
       "      <td>0</td>\n",
       "      <td>1</td>\n",
       "      <td>0</td>\n",
       "    </tr>\n",
       "    <tr>\n",
       "      <th>9999</th>\n",
       "      <td>1</td>\n",
       "      <td>1</td>\n",
       "      <td>0</td>\n",
       "      <td>0</td>\n",
       "    </tr>\n",
       "  </tbody>\n",
       "</table>\n",
       "<p>5118 rows × 4 columns</p>\n",
       "</div>"
      ],
      "text/plain": [
       "      Pelo_longo  Perna_curta  Faz_auau  Porco_cachorro\n",
       "2              1            0         0               1\n",
       "3              0            0         1               0\n",
       "5              0            1         1               0\n",
       "6              1            0         0               1\n",
       "7              0            0         0               1\n",
       "...          ...          ...       ...             ...\n",
       "9991           1            1         0               1\n",
       "9992           1            0         0               0\n",
       "9993           1            1         0               1\n",
       "9996           0            0         1               0\n",
       "9999           1            1         0               0\n",
       "\n",
       "[5118 rows x 4 columns]"
      ]
     },
     "execution_count": 6,
     "metadata": {},
     "output_type": "execute_result"
    }
   ],
   "source": [
    "df"
   ]
  },
  {
   "cell_type": "code",
   "execution_count": null,
   "metadata": {},
   "outputs": [],
   "source": []
  },
  {
   "cell_type": "code",
   "execution_count": null,
   "metadata": {},
   "outputs": [],
   "source": []
  }
 ],
 "metadata": {
  "kernelspec": {
   "display_name": "Python 3",
   "language": "python",
   "name": "python3"
  },
  "language_info": {
   "codemirror_mode": {
    "name": "ipython",
    "version": 3
   },
   "file_extension": ".py",
   "mimetype": "text/x-python",
   "name": "python",
   "nbconvert_exporter": "python",
   "pygments_lexer": "ipython3",
   "version": "3.7.6"
  }
 },
 "nbformat": 4,
 "nbformat_minor": 4
}
